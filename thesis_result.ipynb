{
  "nbformat": 4,
  "nbformat_minor": 0,
  "metadata": {
    "colab": {
      "name": "thesis_result.ipynb",
      "provenance": [],
      "collapsed_sections": []
    },
    "kernelspec": {
      "name": "python3",
      "display_name": "Python 3"
    }
  },
  "cells": [
    {
      "cell_type": "code",
      "metadata": {
        "id": "u5_gEIMlo2Li"
      },
      "source": [
        "import pandas as pd\n",
        "import numpy as np"
      ],
      "execution_count": 1,
      "outputs": []
    },
    {
      "cell_type": "code",
      "metadata": {
        "id": "G8k_EsL4pBw2"
      },
      "source": [
        "import matplotlib.pyplot as plt\n",
        "import seaborn as sns"
      ],
      "execution_count": 2,
      "outputs": []
    },
    {
      "cell_type": "code",
      "metadata": {
        "id": "MjpdU7JDpjMZ",
        "outputId": "b1a13769-5814-4d4c-b334-79df7b56a81f",
        "colab": {
          "base_uri": "https://localhost:8080/",
          "height": 238
        }
      },
      "source": [
        "df = pd.read_excel('MasterChart.xlsx')\n",
        "df.head()"
      ],
      "execution_count": 25,
      "outputs": [
        {
          "output_type": "execute_result",
          "data": {
            "text/html": [
              "<div>\n",
              "<style scoped>\n",
              "    .dataframe tbody tr th:only-of-type {\n",
              "        vertical-align: middle;\n",
              "    }\n",
              "\n",
              "    .dataframe tbody tr th {\n",
              "        vertical-align: top;\n",
              "    }\n",
              "\n",
              "    .dataframe thead th {\n",
              "        text-align: right;\n",
              "    }\n",
              "</style>\n",
              "<table border=\"1\" class=\"dataframe\">\n",
              "  <thead>\n",
              "    <tr style=\"text-align: right;\">\n",
              "      <th></th>\n",
              "      <th>Sr #</th>\n",
              "      <th>Patient ID</th>\n",
              "      <th>Age in Yrs</th>\n",
              "      <th>Age Grp</th>\n",
              "      <th>Wt in Kg</th>\n",
              "      <th>Wt Grp</th>\n",
              "      <th>Socioeconomic Status</th>\n",
              "      <th>Parity</th>\n",
              "      <th>GA by LMP</th>\n",
              "      <th>GA by CRL</th>\n",
              "      <th>CRL</th>\n",
              "      <th>NT</th>\n",
              "      <th>NT&gt; 2SD</th>\n",
              "      <th>Post Find in T1</th>\n",
              "      <th>Post Find in T2</th>\n",
              "      <th>Pregnancy Outcome</th>\n",
              "    </tr>\n",
              "  </thead>\n",
              "  <tbody>\n",
              "    <tr>\n",
              "      <th>0</th>\n",
              "      <td>1</td>\n",
              "      <td>52425</td>\n",
              "      <td>21</td>\n",
              "      <td>1</td>\n",
              "      <td>58</td>\n",
              "      <td>3</td>\n",
              "      <td>2</td>\n",
              "      <td>2</td>\n",
              "      <td>3</td>\n",
              "      <td>3</td>\n",
              "      <td>3</td>\n",
              "      <td>5</td>\n",
              "      <td>0</td>\n",
              "      <td>0</td>\n",
              "      <td>0</td>\n",
              "      <td>1</td>\n",
              "    </tr>\n",
              "    <tr>\n",
              "      <th>1</th>\n",
              "      <td>2</td>\n",
              "      <td>49966</td>\n",
              "      <td>20</td>\n",
              "      <td>1</td>\n",
              "      <td>65</td>\n",
              "      <td>4</td>\n",
              "      <td>2</td>\n",
              "      <td>1</td>\n",
              "      <td>2</td>\n",
              "      <td>2</td>\n",
              "      <td>3</td>\n",
              "      <td>3</td>\n",
              "      <td>0</td>\n",
              "      <td>0</td>\n",
              "      <td>0</td>\n",
              "      <td>1</td>\n",
              "    </tr>\n",
              "    <tr>\n",
              "      <th>2</th>\n",
              "      <td>3</td>\n",
              "      <td>48986</td>\n",
              "      <td>38</td>\n",
              "      <td>2</td>\n",
              "      <td>65</td>\n",
              "      <td>4</td>\n",
              "      <td>2</td>\n",
              "      <td>3</td>\n",
              "      <td>3</td>\n",
              "      <td>3</td>\n",
              "      <td>4</td>\n",
              "      <td>3</td>\n",
              "      <td>0</td>\n",
              "      <td>0</td>\n",
              "      <td>0</td>\n",
              "      <td>1</td>\n",
              "    </tr>\n",
              "    <tr>\n",
              "      <th>3</th>\n",
              "      <td>4</td>\n",
              "      <td>49969</td>\n",
              "      <td>26</td>\n",
              "      <td>1</td>\n",
              "      <td>46</td>\n",
              "      <td>2</td>\n",
              "      <td>2</td>\n",
              "      <td>1</td>\n",
              "      <td>2</td>\n",
              "      <td>2</td>\n",
              "      <td>2</td>\n",
              "      <td>3</td>\n",
              "      <td>0</td>\n",
              "      <td>0</td>\n",
              "      <td>0</td>\n",
              "      <td>1</td>\n",
              "    </tr>\n",
              "    <tr>\n",
              "      <th>4</th>\n",
              "      <td>5</td>\n",
              "      <td>27234</td>\n",
              "      <td>24</td>\n",
              "      <td>1</td>\n",
              "      <td>60</td>\n",
              "      <td>4</td>\n",
              "      <td>2</td>\n",
              "      <td>1</td>\n",
              "      <td>3</td>\n",
              "      <td>2</td>\n",
              "      <td>3</td>\n",
              "      <td>4</td>\n",
              "      <td>0</td>\n",
              "      <td>0</td>\n",
              "      <td>0</td>\n",
              "      <td>2</td>\n",
              "    </tr>\n",
              "  </tbody>\n",
              "</table>\n",
              "</div>"
            ],
            "text/plain": [
              "   Sr #  Patient ID  ...  Post Find in T2  Pregnancy Outcome\n",
              "0     1       52425  ...                0                  1\n",
              "1     2       49966  ...                0                  1\n",
              "2     3       48986  ...                0                  1\n",
              "3     4       49969  ...                0                  1\n",
              "4     5       27234  ...                0                  2\n",
              "\n",
              "[5 rows x 16 columns]"
            ]
          },
          "metadata": {
            "tags": []
          },
          "execution_count": 25
        }
      ]
    },
    {
      "cell_type": "code",
      "metadata": {
        "id": "gk0ab-fupvCY",
        "outputId": "7d578092-bc2d-4efa-bb0c-ee4604ec8d61",
        "colab": {
          "base_uri": "https://localhost:8080/",
          "height": 334
        }
      },
      "source": [
        "df.describe()"
      ],
      "execution_count": 26,
      "outputs": [
        {
          "output_type": "execute_result",
          "data": {
            "text/html": [
              "<div>\n",
              "<style scoped>\n",
              "    .dataframe tbody tr th:only-of-type {\n",
              "        vertical-align: middle;\n",
              "    }\n",
              "\n",
              "    .dataframe tbody tr th {\n",
              "        vertical-align: top;\n",
              "    }\n",
              "\n",
              "    .dataframe thead th {\n",
              "        text-align: right;\n",
              "    }\n",
              "</style>\n",
              "<table border=\"1\" class=\"dataframe\">\n",
              "  <thead>\n",
              "    <tr style=\"text-align: right;\">\n",
              "      <th></th>\n",
              "      <th>Sr #</th>\n",
              "      <th>Patient ID</th>\n",
              "      <th>Age in Yrs</th>\n",
              "      <th>Age Grp</th>\n",
              "      <th>Wt in Kg</th>\n",
              "      <th>Wt Grp</th>\n",
              "      <th>Socioeconomic Status</th>\n",
              "      <th>Parity</th>\n",
              "      <th>GA by LMP</th>\n",
              "      <th>GA by CRL</th>\n",
              "      <th>CRL</th>\n",
              "      <th>NT</th>\n",
              "      <th>NT&gt; 2SD</th>\n",
              "      <th>Post Find in T1</th>\n",
              "      <th>Post Find in T2</th>\n",
              "      <th>Pregnancy Outcome</th>\n",
              "    </tr>\n",
              "  </thead>\n",
              "  <tbody>\n",
              "    <tr>\n",
              "      <th>count</th>\n",
              "      <td>100.000000</td>\n",
              "      <td>100.000000</td>\n",
              "      <td>100.000000</td>\n",
              "      <td>100.000000</td>\n",
              "      <td>100.000000</td>\n",
              "      <td>100.000000</td>\n",
              "      <td>100.0000</td>\n",
              "      <td>100.000000</td>\n",
              "      <td>100.000000</td>\n",
              "      <td>100.000000</td>\n",
              "      <td>100.000000</td>\n",
              "      <td>100.000000</td>\n",
              "      <td>100.000000</td>\n",
              "      <td>100.000000</td>\n",
              "      <td>100.000000</td>\n",
              "      <td>100.0000</td>\n",
              "    </tr>\n",
              "    <tr>\n",
              "      <th>mean</th>\n",
              "      <td>50.500000</td>\n",
              "      <td>39796.620000</td>\n",
              "      <td>24.470000</td>\n",
              "      <td>1.120000</td>\n",
              "      <td>59.300000</td>\n",
              "      <td>3.390000</td>\n",
              "      <td>1.9300</td>\n",
              "      <td>1.400000</td>\n",
              "      <td>2.470000</td>\n",
              "      <td>2.290000</td>\n",
              "      <td>2.930000</td>\n",
              "      <td>3.600000</td>\n",
              "      <td>0.050000</td>\n",
              "      <td>0.030000</td>\n",
              "      <td>0.040000</td>\n",
              "      <td>1.5000</td>\n",
              "    </tr>\n",
              "    <tr>\n",
              "      <th>std</th>\n",
              "      <td>29.011492</td>\n",
              "      <td>11062.336591</td>\n",
              "      <td>3.756355</td>\n",
              "      <td>0.326599</td>\n",
              "      <td>9.338202</td>\n",
              "      <td>1.013993</td>\n",
              "      <td>0.4324</td>\n",
              "      <td>0.568535</td>\n",
              "      <td>0.610597</td>\n",
              "      <td>0.686007</td>\n",
              "      <td>0.912926</td>\n",
              "      <td>1.024941</td>\n",
              "      <td>0.219043</td>\n",
              "      <td>0.171447</td>\n",
              "      <td>0.196946</td>\n",
              "      <td>0.6742</td>\n",
              "    </tr>\n",
              "    <tr>\n",
              "      <th>min</th>\n",
              "      <td>1.000000</td>\n",
              "      <td>22614.000000</td>\n",
              "      <td>20.000000</td>\n",
              "      <td>1.000000</td>\n",
              "      <td>36.000000</td>\n",
              "      <td>1.000000</td>\n",
              "      <td>1.0000</td>\n",
              "      <td>1.000000</td>\n",
              "      <td>1.000000</td>\n",
              "      <td>1.000000</td>\n",
              "      <td>1.000000</td>\n",
              "      <td>2.000000</td>\n",
              "      <td>0.000000</td>\n",
              "      <td>0.000000</td>\n",
              "      <td>0.000000</td>\n",
              "      <td>1.0000</td>\n",
              "    </tr>\n",
              "    <tr>\n",
              "      <th>25%</th>\n",
              "      <td>25.750000</td>\n",
              "      <td>31016.750000</td>\n",
              "      <td>21.000000</td>\n",
              "      <td>1.000000</td>\n",
              "      <td>52.000000</td>\n",
              "      <td>3.000000</td>\n",
              "      <td>2.0000</td>\n",
              "      <td>1.000000</td>\n",
              "      <td>2.000000</td>\n",
              "      <td>2.000000</td>\n",
              "      <td>2.000000</td>\n",
              "      <td>3.000000</td>\n",
              "      <td>0.000000</td>\n",
              "      <td>0.000000</td>\n",
              "      <td>0.000000</td>\n",
              "      <td>1.0000</td>\n",
              "    </tr>\n",
              "    <tr>\n",
              "      <th>50%</th>\n",
              "      <td>50.500000</td>\n",
              "      <td>37771.500000</td>\n",
              "      <td>24.000000</td>\n",
              "      <td>1.000000</td>\n",
              "      <td>60.000000</td>\n",
              "      <td>3.000000</td>\n",
              "      <td>2.0000</td>\n",
              "      <td>1.000000</td>\n",
              "      <td>3.000000</td>\n",
              "      <td>2.000000</td>\n",
              "      <td>3.000000</td>\n",
              "      <td>3.000000</td>\n",
              "      <td>0.000000</td>\n",
              "      <td>0.000000</td>\n",
              "      <td>0.000000</td>\n",
              "      <td>1.0000</td>\n",
              "    </tr>\n",
              "    <tr>\n",
              "      <th>75%</th>\n",
              "      <td>75.250000</td>\n",
              "      <td>51168.250000</td>\n",
              "      <td>26.000000</td>\n",
              "      <td>1.000000</td>\n",
              "      <td>64.000000</td>\n",
              "      <td>4.000000</td>\n",
              "      <td>2.0000</td>\n",
              "      <td>2.000000</td>\n",
              "      <td>3.000000</td>\n",
              "      <td>3.000000</td>\n",
              "      <td>4.000000</td>\n",
              "      <td>4.000000</td>\n",
              "      <td>0.000000</td>\n",
              "      <td>0.000000</td>\n",
              "      <td>0.000000</td>\n",
              "      <td>2.0000</td>\n",
              "    </tr>\n",
              "    <tr>\n",
              "      <th>max</th>\n",
              "      <td>100.000000</td>\n",
              "      <td>58334.000000</td>\n",
              "      <td>38.000000</td>\n",
              "      <td>2.000000</td>\n",
              "      <td>90.000000</td>\n",
              "      <td>6.000000</td>\n",
              "      <td>3.0000</td>\n",
              "      <td>3.000000</td>\n",
              "      <td>3.000000</td>\n",
              "      <td>3.000000</td>\n",
              "      <td>5.000000</td>\n",
              "      <td>8.000000</td>\n",
              "      <td>1.000000</td>\n",
              "      <td>1.000000</td>\n",
              "      <td>1.000000</td>\n",
              "      <td>4.0000</td>\n",
              "    </tr>\n",
              "  </tbody>\n",
              "</table>\n",
              "</div>"
            ],
            "text/plain": [
              "             Sr #    Patient ID  ...  Post Find in T2  Pregnancy Outcome\n",
              "count  100.000000    100.000000  ...       100.000000           100.0000\n",
              "mean    50.500000  39796.620000  ...         0.040000             1.5000\n",
              "std     29.011492  11062.336591  ...         0.196946             0.6742\n",
              "min      1.000000  22614.000000  ...         0.000000             1.0000\n",
              "25%     25.750000  31016.750000  ...         0.000000             1.0000\n",
              "50%     50.500000  37771.500000  ...         0.000000             1.0000\n",
              "75%     75.250000  51168.250000  ...         0.000000             2.0000\n",
              "max    100.000000  58334.000000  ...         1.000000             4.0000\n",
              "\n",
              "[8 rows x 16 columns]"
            ]
          },
          "metadata": {
            "tags": []
          },
          "execution_count": 26
        }
      ]
    },
    {
      "cell_type": "code",
      "metadata": {
        "id": "_ms1bB9g0GxQ",
        "outputId": "5966a89b-bce5-4b54-d451-40a816dbdaab",
        "colab": {
          "base_uri": "https://localhost:8080/",
          "height": 407
        }
      },
      "source": [
        "fig= plt.figure(figsize=(6,6))\n",
        "df['Age Grp'].value_counts().plot(kind = 'bar', alpha = 0.5, color=['Black', 'green'] )\n",
        "plt.xticks([0,1],['One','Two'], rotation = 0)\n",
        "plt.title('Age Distribution')\n",
        "\n",
        "colors = {'One':'Black', 'Two':'green'}         \n",
        "labels = list(colors.keys())\n",
        "handles = [plt.Rectangle((0,0),1,1, color=colors[label], alpha = 0.5) for label in labels]\n",
        "plt.legend(handles, labels)"
      ],
      "execution_count": 80,
      "outputs": [
        {
          "output_type": "execute_result",
          "data": {
            "text/plain": [
              "<matplotlib.legend.Legend at 0x7f6db6fa5be0>"
            ]
          },
          "metadata": {
            "tags": []
          },
          "execution_count": 80
        },
        {
          "output_type": "display_data",
          "data": {
            "image/png": "[encoded data removed]",
            "text/plain": [
              "<Figure size 432x432 with 1 Axes>"
            ]
          },
          "metadata": {
            "tags": [],
            "needs_background": "light"
          }
        }
      ]
    },
    {
      "cell_type": "code",
      "metadata": {
        "id": "D3mQaT1_7fj-",
        "outputId": "42ef442d-b403-4d23-9473-82f504dc094e",
        "colab": {
          "base_uri": "https://localhost:8080/",
          "height": 390
        }
      },
      "source": [
        "plt.figure(figsize=(6,6))\n",
        "df['Parity'].value_counts().plot(kind ='pie')\n",
        "plt.legend()\n",
        "plt.title('Parity')\n"
      ],
      "execution_count": 85,
      "outputs": [
        {
          "output_type": "execute_result",
          "data": {
            "text/plain": [
              "Text(0.5, 1.0, 'Parity')"
            ]
          },
          "metadata": {
            "tags": []
          },
          "execution_count": 85
        },
        {
          "output_type": "display_data",
          "data": {
            "image/png": "[encoded data removed]",
            "text/plain": [
              "<Figure size 432x432 with 1 Axes>"
            ]
          },
          "metadata": {
            "tags": []
          }
        }
      ]
    },
    {
      "cell_type": "code",
      "metadata": {
        "id": "oENzX_JhB-rS"
      },
      "source": [
        ""
      ],
      "execution_count": null,
      "outputs": []
    },
    {
      "cell_type": "code",
      "metadata": {
        "id": "vum3deK-0WX7"
      },
      "source": [
        "from mpl_toolkits.mplot3d import Axes3D"
      ],
      "execution_count": 54,
      "outputs": []
    },
    {
      "cell_type": "code",
      "metadata": {
        "id": "dBFdsw0F1lQy",
        "outputId": "a7b9a813-09bc-4623-df1a-220a72162ef2",
        "colab": {
          "base_uri": "https://localhost:8080/",
          "height": 265
        }
      },
      "source": [
        "fig = plt.figure()\n",
        "ax1 = fig.add_subplot(111, projection = '3d')\n",
        "\n",
        "xpos = [1,2]\n",
        "ypos = [88, 12]\n",
        "zpos=[0,0]\n",
        "\n",
        "dx = np.ones(2)\n",
        "dy = np.ones(2)\n",
        "dz = [1,2]\n",
        "\n",
        "ax1.bar3d(xpos,ypos,zpos,dx,dy,dz)"
      ],
      "execution_count": 55,
      "outputs": [
        {
          "output_type": "execute_result",
          "data": {
            "text/plain": [
              "<mpl_toolkits.mplot3d.art3d.Poly3DCollection at 0x7f6db9e68860>"
            ]
          },
          "metadata": {
            "tags": []
          },
          "execution_count": 55
        },
        {
          "output_type": "display_data",
          "data": {
            "image/png": "[encoded data removed]",
            "text/plain": [
              "<Figure size 432x288 with 1 Axes>"
            ]
          },
          "metadata": {
            "tags": [],
            "needs_background": "light"
          }
        }
      ]
    },
    {
      "cell_type": "code",
      "metadata": {
        "id": "aRtevLRJ2--1"
      },
      "source": [
        ""
      ],
      "execution_count": null,
      "outputs": []
    }
  ]
}